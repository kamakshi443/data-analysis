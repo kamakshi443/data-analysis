{
 "cells": [
  {
   "cell_type": "code",
   "execution_count": 1,
   "metadata": {},
   "outputs": [],
   "source": [
    "import pandas as pd"
   ]
  },
  {
   "cell_type": "code",
   "execution_count": 2,
   "metadata": {},
   "outputs": [
    {
     "data": {
      "text/html": [
       "<div>\n",
       "<style scoped>\n",
       "    .dataframe tbody tr th:only-of-type {\n",
       "        vertical-align: middle;\n",
       "    }\n",
       "\n",
       "    .dataframe tbody tr th {\n",
       "        vertical-align: top;\n",
       "    }\n",
       "\n",
       "    .dataframe thead th {\n",
       "        text-align: right;\n",
       "    }\n",
       "</style>\n",
       "<table border=\"1\" class=\"dataframe\">\n",
       "  <thead>\n",
       "    <tr style=\"text-align: right;\">\n",
       "      <th></th>\n",
       "      <th>STORE NAME</th>\n",
       "      <th>Executive Name</th>\n",
       "      <th>AREA</th>\n",
       "      <th>PHONE 1</th>\n",
       "      <th>PHONE 2</th>\n",
       "      <th>ADDRESS</th>\n",
       "      <th>CONTACT</th>\n",
       "      <th>MOBILE NUMBERS</th>\n",
       "      <th>WHATSAPP LINK</th>\n",
       "      <th>CALL SUMMARY</th>\n",
       "      <th>...</th>\n",
       "      <th>Unnamed: 12</th>\n",
       "      <th>Unnamed: 13</th>\n",
       "      <th>Unnamed: 14</th>\n",
       "      <th>Unnamed: 15</th>\n",
       "      <th>Unnamed: 16</th>\n",
       "      <th>Unnamed: 17</th>\n",
       "      <th>Unnamed: 18</th>\n",
       "      <th>Unnamed: 19</th>\n",
       "      <th>long</th>\n",
       "      <th>lat</th>\n",
       "    </tr>\n",
       "  </thead>\n",
       "  <tbody>\n",
       "    <tr>\n",
       "      <th>0</th>\n",
       "      <td>Akas Optical Shop</td>\n",
       "      <td>sahil</td>\n",
       "      <td>ADARSH NAGAR</td>\n",
       "      <td>098129 98911</td>\n",
       "      <td>NaN</td>\n",
       "      <td>B-970, Block H 3, Jahangirpuri, Delhi, 110033</td>\n",
       "      <td>98129 98911</td>\n",
       "      <td>9.812999e+09</td>\n",
       "      <td>https://api.whatsapp.com/send?phone=+919812998911</td>\n",
       "      <td>wrong number</td>\n",
       "      <td>...</td>\n",
       "      <td>NaN</td>\n",
       "      <td>NaN</td>\n",
       "      <td>NaN</td>\n",
       "      <td>NaN</td>\n",
       "      <td>NaN</td>\n",
       "      <td>NaN</td>\n",
       "      <td>NaN</td>\n",
       "      <td>NaN</td>\n",
       "      <td>77.169424</td>\n",
       "      <td>28.727799</td>\n",
       "    </tr>\n",
       "    <tr>\n",
       "      <th>1</th>\n",
       "      <td>Alisha Opticals</td>\n",
       "      <td>sahil</td>\n",
       "      <td>ADARSH NAGAR</td>\n",
       "      <td>NaN</td>\n",
       "      <td>NaN</td>\n",
       "      <td>D-483, Railway Rd, Sadi Nagar, Azadpur, Ashok ...</td>\n",
       "      <td>NaN</td>\n",
       "      <td>NaN</td>\n",
       "      <td>NaN</td>\n",
       "      <td>NaN</td>\n",
       "      <td>...</td>\n",
       "      <td>NaN</td>\n",
       "      <td>NaN</td>\n",
       "      <td>NaN</td>\n",
       "      <td>NaN</td>\n",
       "      <td>NaN</td>\n",
       "      <td>NaN</td>\n",
       "      <td>NaN</td>\n",
       "      <td>NaN</td>\n",
       "      <td>77.175847</td>\n",
       "      <td>28.705973</td>\n",
       "    </tr>\n",
       "    <tr>\n",
       "      <th>2</th>\n",
       "      <td>Aman optics</td>\n",
       "      <td>NaN</td>\n",
       "      <td>ADARSH NAGAR</td>\n",
       "      <td>9891110907</td>\n",
       "      <td>NaN</td>\n",
       "      <td>A-13, GT Karnal road, Adarsh Nagar, New Delhi-...</td>\n",
       "      <td>9891110907</td>\n",
       "      <td>9.891111e+09</td>\n",
       "      <td>https://api.whatsapp.com/send?phone=+919891110907</td>\n",
       "      <td>NaN</td>\n",
       "      <td>...</td>\n",
       "      <td>NaN</td>\n",
       "      <td>NaN</td>\n",
       "      <td>NaN</td>\n",
       "      <td>NaN</td>\n",
       "      <td>NaN</td>\n",
       "      <td>NaN</td>\n",
       "      <td>NaN</td>\n",
       "      <td>NaN</td>\n",
       "      <td>77.171288</td>\n",
       "      <td>28.718086</td>\n",
       "    </tr>\n",
       "    <tr>\n",
       "      <th>3</th>\n",
       "      <td>Dr. K.L. Sethi eye care</td>\n",
       "      <td>NaN</td>\n",
       "      <td>ADARSH NAGAR</td>\n",
       "      <td>9988656453</td>\n",
       "      <td>NaN</td>\n",
       "      <td>C-5, aryasamaj road, Adarsh Nagar new Delhi-1...</td>\n",
       "      <td>9988656453</td>\n",
       "      <td>9.988656e+09</td>\n",
       "      <td>https://api.whatsapp.com/send?phone=+919988656453</td>\n",
       "      <td>NaN</td>\n",
       "      <td>...</td>\n",
       "      <td>NaN</td>\n",
       "      <td>NaN</td>\n",
       "      <td>NaN</td>\n",
       "      <td>NaN</td>\n",
       "      <td>NaN</td>\n",
       "      <td>NaN</td>\n",
       "      <td>NaN</td>\n",
       "      <td>NaN</td>\n",
       "      <td>77.175140</td>\n",
       "      <td>28.718182</td>\n",
       "    </tr>\n",
       "    <tr>\n",
       "      <th>4</th>\n",
       "      <td>Eye care centre</td>\n",
       "      <td>Naman</td>\n",
       "      <td>ADARSH NAGAR</td>\n",
       "      <td>9999666002</td>\n",
       "      <td>NaN</td>\n",
       "      <td>C-5 ,Shop no.-3 Arya samaj road, Adarsh Nagar,...</td>\n",
       "      <td>9999666002</td>\n",
       "      <td>9.999666e+09</td>\n",
       "      <td>https://api.whatsapp.com/send?phone=+919999666002</td>\n",
       "      <td>NaN</td>\n",
       "      <td>...</td>\n",
       "      <td>NaN</td>\n",
       "      <td>NaN</td>\n",
       "      <td>NaN</td>\n",
       "      <td>NaN</td>\n",
       "      <td>NaN</td>\n",
       "      <td>NaN</td>\n",
       "      <td>NaN</td>\n",
       "      <td>NaN</td>\n",
       "      <td>77.175140</td>\n",
       "      <td>28.718182</td>\n",
       "    </tr>\n",
       "    <tr>\n",
       "      <th>...</th>\n",
       "      <td>...</td>\n",
       "      <td>...</td>\n",
       "      <td>...</td>\n",
       "      <td>...</td>\n",
       "      <td>...</td>\n",
       "      <td>...</td>\n",
       "      <td>...</td>\n",
       "      <td>...</td>\n",
       "      <td>...</td>\n",
       "      <td>...</td>\n",
       "      <td>...</td>\n",
       "      <td>...</td>\n",
       "      <td>...</td>\n",
       "      <td>...</td>\n",
       "      <td>...</td>\n",
       "      <td>...</td>\n",
       "      <td>...</td>\n",
       "      <td>...</td>\n",
       "      <td>...</td>\n",
       "      <td>...</td>\n",
       "      <td>...</td>\n",
       "    </tr>\n",
       "    <tr>\n",
       "      <th>1355</th>\n",
       "      <td>Krishna Eye Care Opticals</td>\n",
       "      <td>NaN</td>\n",
       "      <td>Sultanpuri</td>\n",
       "      <td>087505 91012</td>\n",
       "      <td>NaN</td>\n",
       "      <td>Gali A Block, Vir Bazar Rd, Anand Nagar, Balji...</td>\n",
       "      <td>NaN</td>\n",
       "      <td>NaN</td>\n",
       "      <td>NaN</td>\n",
       "      <td>NaN</td>\n",
       "      <td>...</td>\n",
       "      <td>NaN</td>\n",
       "      <td>NaN</td>\n",
       "      <td>NaN</td>\n",
       "      <td>NaN</td>\n",
       "      <td>NaN</td>\n",
       "      <td>NaN</td>\n",
       "      <td>NaN</td>\n",
       "      <td>NaN</td>\n",
       "      <td>77.056048</td>\n",
       "      <td>28.698095</td>\n",
       "    </tr>\n",
       "    <tr>\n",
       "      <th>1356</th>\n",
       "      <td>Sunaina Optical</td>\n",
       "      <td>NaN</td>\n",
       "      <td>Sultanpuri</td>\n",
       "      <td>092112 24350</td>\n",
       "      <td>NaN</td>\n",
       "      <td>Ramleela Ground T-4 shop no 37 lovely market G...</td>\n",
       "      <td>NaN</td>\n",
       "      <td>NaN</td>\n",
       "      <td>NaN</td>\n",
       "      <td>NaN</td>\n",
       "      <td>...</td>\n",
       "      <td>NaN</td>\n",
       "      <td>NaN</td>\n",
       "      <td>NaN</td>\n",
       "      <td>NaN</td>\n",
       "      <td>NaN</td>\n",
       "      <td>NaN</td>\n",
       "      <td>NaN</td>\n",
       "      <td>NaN</td>\n",
       "      <td>77.082392</td>\n",
       "      <td>28.708505</td>\n",
       "    </tr>\n",
       "    <tr>\n",
       "      <th>1357</th>\n",
       "      <td>Super Vision Opticals</td>\n",
       "      <td>NaN</td>\n",
       "      <td>Sultanpuri</td>\n",
       "      <td>011 2214 5152</td>\n",
       "      <td>NaN</td>\n",
       "      <td>E-123, Grand Trunk Road, Indra Enclave, Phase ...</td>\n",
       "      <td>NaN</td>\n",
       "      <td>NaN</td>\n",
       "      <td>NaN</td>\n",
       "      <td>NaN</td>\n",
       "      <td>...</td>\n",
       "      <td>NaN</td>\n",
       "      <td>NaN</td>\n",
       "      <td>NaN</td>\n",
       "      <td>NaN</td>\n",
       "      <td>NaN</td>\n",
       "      <td>NaN</td>\n",
       "      <td>NaN</td>\n",
       "      <td>NaN</td>\n",
       "      <td>77.317581</td>\n",
       "      <td>28.676295</td>\n",
       "    </tr>\n",
       "    <tr>\n",
       "      <th>1358</th>\n",
       "      <td>Jaiswal Opticals</td>\n",
       "      <td>NaN</td>\n",
       "      <td>Sultanpuri</td>\n",
       "      <td>085860 29412</td>\n",
       "      <td>NaN</td>\n",
       "      <td>1248, T-block, Mangol Puri, New Delhi, Delhi 1...</td>\n",
       "      <td>NaN</td>\n",
       "      <td>NaN</td>\n",
       "      <td>NaN</td>\n",
       "      <td>NaN</td>\n",
       "      <td>...</td>\n",
       "      <td>NaN</td>\n",
       "      <td>NaN</td>\n",
       "      <td>NaN</td>\n",
       "      <td>NaN</td>\n",
       "      <td>NaN</td>\n",
       "      <td>NaN</td>\n",
       "      <td>NaN</td>\n",
       "      <td>NaN</td>\n",
       "      <td>77.081877</td>\n",
       "      <td>28.689332</td>\n",
       "    </tr>\n",
       "    <tr>\n",
       "      <th>1359</th>\n",
       "      <td>Star Vision</td>\n",
       "      <td>NaN</td>\n",
       "      <td>Sultanpuri</td>\n",
       "      <td>084597 75093</td>\n",
       "      <td>NaN</td>\n",
       "      <td>A-51, Kanjhawala Rd, Pocket Q, Budh Vihar Pha...</td>\n",
       "      <td>NaN</td>\n",
       "      <td>NaN</td>\n",
       "      <td>NaN</td>\n",
       "      <td>NaN</td>\n",
       "      <td>...</td>\n",
       "      <td>NaN</td>\n",
       "      <td>NaN</td>\n",
       "      <td>NaN</td>\n",
       "      <td>NaN</td>\n",
       "      <td>NaN</td>\n",
       "      <td>NaN</td>\n",
       "      <td>NaN</td>\n",
       "      <td>NaN</td>\n",
       "      <td>77.083638</td>\n",
       "      <td>28.707101</td>\n",
       "    </tr>\n",
       "  </tbody>\n",
       "</table>\n",
       "<p>1360 rows × 21 columns</p>\n",
       "</div>"
      ],
      "text/plain": [
       "                     STORE NAME Executive Name          AREA        PHONE 1  \\\n",
       "0             Akas Optical Shop          sahil  ADARSH NAGAR   098129 98911   \n",
       "1               Alisha Opticals          sahil  ADARSH NAGAR            NaN   \n",
       "2                   Aman optics            NaN  ADARSH NAGAR     9891110907   \n",
       "3       Dr. K.L. Sethi eye care            NaN  ADARSH NAGAR     9988656453   \n",
       "4               Eye care centre          Naman  ADARSH NAGAR     9999666002   \n",
       "...                         ...            ...           ...            ...   \n",
       "1355  Krishna Eye Care Opticals            NaN    Sultanpuri   087505 91012   \n",
       "1356            Sunaina Optical            NaN    Sultanpuri   092112 24350   \n",
       "1357      Super Vision Opticals            NaN    Sultanpuri  011 2214 5152   \n",
       "1358           Jaiswal Opticals            NaN    Sultanpuri   085860 29412   \n",
       "1359                Star Vision            NaN    Sultanpuri   084597 75093   \n",
       "\n",
       "     PHONE 2                                            ADDRESS      CONTACT  \\\n",
       "0        NaN      B-970, Block H 3, Jahangirpuri, Delhi, 110033  98129 98911   \n",
       "1        NaN  D-483, Railway Rd, Sadi Nagar, Azadpur, Ashok ...          NaN   \n",
       "2        NaN  A-13, GT Karnal road, Adarsh Nagar, New Delhi-...   9891110907   \n",
       "3        NaN   C-5, aryasamaj road, Adarsh Nagar new Delhi-1...   9988656453   \n",
       "4        NaN  C-5 ,Shop no.-3 Arya samaj road, Adarsh Nagar,...   9999666002   \n",
       "...      ...                                                ...          ...   \n",
       "1355     NaN  Gali A Block, Vir Bazar Rd, Anand Nagar, Balji...          NaN   \n",
       "1356     NaN  Ramleela Ground T-4 shop no 37 lovely market G...          NaN   \n",
       "1357     NaN  E-123, Grand Trunk Road, Indra Enclave, Phase ...          NaN   \n",
       "1358     NaN  1248, T-block, Mangol Puri, New Delhi, Delhi 1...          NaN   \n",
       "1359     NaN   A-51, Kanjhawala Rd, Pocket Q, Budh Vihar Pha...          NaN   \n",
       "\n",
       "      MOBILE NUMBERS                                      WHATSAPP LINK  \\\n",
       "0       9.812999e+09  https://api.whatsapp.com/send?phone=+919812998911   \n",
       "1                NaN                                                NaN   \n",
       "2       9.891111e+09  https://api.whatsapp.com/send?phone=+919891110907   \n",
       "3       9.988656e+09  https://api.whatsapp.com/send?phone=+919988656453   \n",
       "4       9.999666e+09  https://api.whatsapp.com/send?phone=+919999666002   \n",
       "...              ...                                                ...   \n",
       "1355             NaN                                                NaN   \n",
       "1356             NaN                                                NaN   \n",
       "1357             NaN                                                NaN   \n",
       "1358             NaN                                                NaN   \n",
       "1359             NaN                                                NaN   \n",
       "\n",
       "      CALL SUMMARY  ...  Unnamed: 12 Unnamed: 13  Unnamed: 14  Unnamed: 15  \\\n",
       "0     wrong number  ...          NaN         NaN          NaN          NaN   \n",
       "1              NaN  ...          NaN         NaN          NaN          NaN   \n",
       "2              NaN  ...          NaN         NaN          NaN          NaN   \n",
       "3              NaN  ...          NaN         NaN          NaN          NaN   \n",
       "4              NaN  ...          NaN         NaN          NaN          NaN   \n",
       "...            ...  ...          ...         ...          ...          ...   \n",
       "1355           NaN  ...          NaN         NaN          NaN          NaN   \n",
       "1356           NaN  ...          NaN         NaN          NaN          NaN   \n",
       "1357           NaN  ...          NaN         NaN          NaN          NaN   \n",
       "1358           NaN  ...          NaN         NaN          NaN          NaN   \n",
       "1359           NaN  ...          NaN         NaN          NaN          NaN   \n",
       "\n",
       "     Unnamed: 16  Unnamed: 17  Unnamed: 18 Unnamed: 19       long        lat  \n",
       "0            NaN          NaN          NaN         NaN  77.169424  28.727799  \n",
       "1            NaN          NaN          NaN         NaN  77.175847  28.705973  \n",
       "2            NaN          NaN          NaN         NaN  77.171288  28.718086  \n",
       "3            NaN          NaN          NaN         NaN  77.175140  28.718182  \n",
       "4            NaN          NaN          NaN         NaN  77.175140  28.718182  \n",
       "...          ...          ...          ...         ...        ...        ...  \n",
       "1355         NaN          NaN          NaN         NaN  77.056048  28.698095  \n",
       "1356         NaN          NaN          NaN         NaN  77.082392  28.708505  \n",
       "1357         NaN          NaN          NaN         NaN  77.317581  28.676295  \n",
       "1358         NaN          NaN          NaN         NaN  77.081877  28.689332  \n",
       "1359         NaN          NaN          NaN         NaN  77.083638  28.707101  \n",
       "\n",
       "[1360 rows x 21 columns]"
      ]
     },
     "execution_count": 2,
     "metadata": {},
     "output_type": "execute_result"
    }
   ],
   "source": [
    "pd.read_csv(\"Delhinew.csv\")"
   ]
  },
  {
   "cell_type": "code",
   "execution_count": 4,
   "metadata": {},
   "outputs": [],
   "source": [
    "Delhinew = pd.read_csv(\"Delhinew.csv\")"
   ]
  },
  {
   "cell_type": "code",
   "execution_count": 6,
   "metadata": {},
   "outputs": [
    {
     "data": {
      "text/html": [
       "<div>\n",
       "<style scoped>\n",
       "    .dataframe tbody tr th:only-of-type {\n",
       "        vertical-align: middle;\n",
       "    }\n",
       "\n",
       "    .dataframe tbody tr th {\n",
       "        vertical-align: top;\n",
       "    }\n",
       "\n",
       "    .dataframe thead th {\n",
       "        text-align: right;\n",
       "    }\n",
       "</style>\n",
       "<table border=\"1\" class=\"dataframe\">\n",
       "  <thead>\n",
       "    <tr style=\"text-align: right;\">\n",
       "      <th></th>\n",
       "      <th>STORE NAME</th>\n",
       "      <th>Executive Name</th>\n",
       "      <th>AREA</th>\n",
       "      <th>PHONE 1</th>\n",
       "      <th>PHONE 2</th>\n",
       "      <th>ADDRESS</th>\n",
       "      <th>CONTACT</th>\n",
       "      <th>MOBILE NUMBERS</th>\n",
       "      <th>WHATSAPP LINK</th>\n",
       "      <th>CALL SUMMARY</th>\n",
       "      <th>...</th>\n",
       "      <th>Unnamed: 12</th>\n",
       "      <th>Unnamed: 13</th>\n",
       "      <th>Unnamed: 14</th>\n",
       "      <th>Unnamed: 15</th>\n",
       "      <th>Unnamed: 16</th>\n",
       "      <th>Unnamed: 17</th>\n",
       "      <th>Unnamed: 18</th>\n",
       "      <th>Unnamed: 19</th>\n",
       "      <th>long</th>\n",
       "      <th>lat</th>\n",
       "    </tr>\n",
       "  </thead>\n",
       "  <tbody>\n",
       "    <tr>\n",
       "      <th>0</th>\n",
       "      <td>Akas Optical Shop</td>\n",
       "      <td>sahil</td>\n",
       "      <td>ADARSH NAGAR</td>\n",
       "      <td>098129 98911</td>\n",
       "      <td>NaN</td>\n",
       "      <td>B-970, Block H 3, Jahangirpuri, Delhi, 110033</td>\n",
       "      <td>98129 98911</td>\n",
       "      <td>9.812999e+09</td>\n",
       "      <td>https://api.whatsapp.com/send?phone=+919812998911</td>\n",
       "      <td>wrong number</td>\n",
       "      <td>...</td>\n",
       "      <td>NaN</td>\n",
       "      <td>NaN</td>\n",
       "      <td>NaN</td>\n",
       "      <td>NaN</td>\n",
       "      <td>NaN</td>\n",
       "      <td>NaN</td>\n",
       "      <td>NaN</td>\n",
       "      <td>NaN</td>\n",
       "      <td>77.169424</td>\n",
       "      <td>28.727799</td>\n",
       "    </tr>\n",
       "    <tr>\n",
       "      <th>1</th>\n",
       "      <td>Alisha Opticals</td>\n",
       "      <td>sahil</td>\n",
       "      <td>ADARSH NAGAR</td>\n",
       "      <td>NaN</td>\n",
       "      <td>NaN</td>\n",
       "      <td>D-483, Railway Rd, Sadi Nagar, Azadpur, Ashok ...</td>\n",
       "      <td>NaN</td>\n",
       "      <td>NaN</td>\n",
       "      <td>NaN</td>\n",
       "      <td>NaN</td>\n",
       "      <td>...</td>\n",
       "      <td>NaN</td>\n",
       "      <td>NaN</td>\n",
       "      <td>NaN</td>\n",
       "      <td>NaN</td>\n",
       "      <td>NaN</td>\n",
       "      <td>NaN</td>\n",
       "      <td>NaN</td>\n",
       "      <td>NaN</td>\n",
       "      <td>77.175847</td>\n",
       "      <td>28.705973</td>\n",
       "    </tr>\n",
       "    <tr>\n",
       "      <th>2</th>\n",
       "      <td>Aman optics</td>\n",
       "      <td>NaN</td>\n",
       "      <td>ADARSH NAGAR</td>\n",
       "      <td>9891110907</td>\n",
       "      <td>NaN</td>\n",
       "      <td>A-13, GT Karnal road, Adarsh Nagar, New Delhi-...</td>\n",
       "      <td>9891110907</td>\n",
       "      <td>9.891111e+09</td>\n",
       "      <td>https://api.whatsapp.com/send?phone=+919891110907</td>\n",
       "      <td>NaN</td>\n",
       "      <td>...</td>\n",
       "      <td>NaN</td>\n",
       "      <td>NaN</td>\n",
       "      <td>NaN</td>\n",
       "      <td>NaN</td>\n",
       "      <td>NaN</td>\n",
       "      <td>NaN</td>\n",
       "      <td>NaN</td>\n",
       "      <td>NaN</td>\n",
       "      <td>77.171288</td>\n",
       "      <td>28.718086</td>\n",
       "    </tr>\n",
       "    <tr>\n",
       "      <th>3</th>\n",
       "      <td>Dr. K.L. Sethi eye care</td>\n",
       "      <td>NaN</td>\n",
       "      <td>ADARSH NAGAR</td>\n",
       "      <td>9988656453</td>\n",
       "      <td>NaN</td>\n",
       "      <td>C-5, aryasamaj road, Adarsh Nagar new Delhi-1...</td>\n",
       "      <td>9988656453</td>\n",
       "      <td>9.988656e+09</td>\n",
       "      <td>https://api.whatsapp.com/send?phone=+919988656453</td>\n",
       "      <td>NaN</td>\n",
       "      <td>...</td>\n",
       "      <td>NaN</td>\n",
       "      <td>NaN</td>\n",
       "      <td>NaN</td>\n",
       "      <td>NaN</td>\n",
       "      <td>NaN</td>\n",
       "      <td>NaN</td>\n",
       "      <td>NaN</td>\n",
       "      <td>NaN</td>\n",
       "      <td>77.175140</td>\n",
       "      <td>28.718182</td>\n",
       "    </tr>\n",
       "    <tr>\n",
       "      <th>4</th>\n",
       "      <td>Eye care centre</td>\n",
       "      <td>Naman</td>\n",
       "      <td>ADARSH NAGAR</td>\n",
       "      <td>9999666002</td>\n",
       "      <td>NaN</td>\n",
       "      <td>C-5 ,Shop no.-3 Arya samaj road, Adarsh Nagar,...</td>\n",
       "      <td>9999666002</td>\n",
       "      <td>9.999666e+09</td>\n",
       "      <td>https://api.whatsapp.com/send?phone=+919999666002</td>\n",
       "      <td>NaN</td>\n",
       "      <td>...</td>\n",
       "      <td>NaN</td>\n",
       "      <td>NaN</td>\n",
       "      <td>NaN</td>\n",
       "      <td>NaN</td>\n",
       "      <td>NaN</td>\n",
       "      <td>NaN</td>\n",
       "      <td>NaN</td>\n",
       "      <td>NaN</td>\n",
       "      <td>77.175140</td>\n",
       "      <td>28.718182</td>\n",
       "    </tr>\n",
       "  </tbody>\n",
       "</table>\n",
       "<p>5 rows × 21 columns</p>\n",
       "</div>"
      ],
      "text/plain": [
       "                STORE NAME Executive Name          AREA       PHONE 1 PHONE 2  \\\n",
       "0        Akas Optical Shop          sahil  ADARSH NAGAR  098129 98911     NaN   \n",
       "1          Alisha Opticals          sahil  ADARSH NAGAR           NaN     NaN   \n",
       "2              Aman optics            NaN  ADARSH NAGAR    9891110907     NaN   \n",
       "3  Dr. K.L. Sethi eye care            NaN  ADARSH NAGAR    9988656453     NaN   \n",
       "4          Eye care centre          Naman  ADARSH NAGAR    9999666002     NaN   \n",
       "\n",
       "                                             ADDRESS      CONTACT  \\\n",
       "0      B-970, Block H 3, Jahangirpuri, Delhi, 110033  98129 98911   \n",
       "1  D-483, Railway Rd, Sadi Nagar, Azadpur, Ashok ...          NaN   \n",
       "2  A-13, GT Karnal road, Adarsh Nagar, New Delhi-...   9891110907   \n",
       "3   C-5, aryasamaj road, Adarsh Nagar new Delhi-1...   9988656453   \n",
       "4  C-5 ,Shop no.-3 Arya samaj road, Adarsh Nagar,...   9999666002   \n",
       "\n",
       "   MOBILE NUMBERS                                      WHATSAPP LINK  \\\n",
       "0    9.812999e+09  https://api.whatsapp.com/send?phone=+919812998911   \n",
       "1             NaN                                                NaN   \n",
       "2    9.891111e+09  https://api.whatsapp.com/send?phone=+919891110907   \n",
       "3    9.988656e+09  https://api.whatsapp.com/send?phone=+919988656453   \n",
       "4    9.999666e+09  https://api.whatsapp.com/send?phone=+919999666002   \n",
       "\n",
       "   CALL SUMMARY  ...  Unnamed: 12 Unnamed: 13  Unnamed: 14  Unnamed: 15  \\\n",
       "0  wrong number  ...          NaN         NaN          NaN          NaN   \n",
       "1           NaN  ...          NaN         NaN          NaN          NaN   \n",
       "2           NaN  ...          NaN         NaN          NaN          NaN   \n",
       "3           NaN  ...          NaN         NaN          NaN          NaN   \n",
       "4           NaN  ...          NaN         NaN          NaN          NaN   \n",
       "\n",
       "  Unnamed: 16  Unnamed: 17  Unnamed: 18 Unnamed: 19       long        lat  \n",
       "0         NaN          NaN          NaN         NaN  77.169424  28.727799  \n",
       "1         NaN          NaN          NaN         NaN  77.175847  28.705973  \n",
       "2         NaN          NaN          NaN         NaN  77.171288  28.718086  \n",
       "3         NaN          NaN          NaN         NaN  77.175140  28.718182  \n",
       "4         NaN          NaN          NaN         NaN  77.175140  28.718182  \n",
       "\n",
       "[5 rows x 21 columns]"
      ]
     },
     "execution_count": 6,
     "metadata": {},
     "output_type": "execute_result"
    }
   ],
   "source": [
    "Delhinew.head()"
   ]
  },
  {
   "cell_type": "code",
   "execution_count": 7,
   "metadata": {},
   "outputs": [
    {
     "data": {
      "text/plain": [
       "pandas.core.frame.DataFrame"
      ]
     },
     "execution_count": 7,
     "metadata": {},
     "output_type": "execute_result"
    }
   ],
   "source": [
    "type(Delhinew)"
   ]
  },
  {
   "cell_type": "code",
   "execution_count": 8,
   "metadata": {},
   "outputs": [
    {
     "data": {
      "text/plain": [
       "Index(['STORE NAME', 'Executive Name', 'AREA', 'PHONE 1', 'PHONE 2', 'ADDRESS',\n",
       "       'CONTACT', 'MOBILE NUMBERS', 'WHATSAPP LINK', 'CALL SUMMARY',\n",
       "       'Unnamed: 11', 'Unnamed: 12', 'Unnamed: 13', 'Unnamed: 14',\n",
       "       'Unnamed: 15', 'Unnamed: 16', 'Unnamed: 17', 'Unnamed: 18',\n",
       "       'Unnamed: 19', 'long', 'lat'],\n",
       "      dtype='object')"
      ]
     },
     "execution_count": 8,
     "metadata": {},
     "output_type": "execute_result"
    }
   ],
   "source": [
    "Delhinew.columns"
   ]
  },
  {
   "cell_type": "code",
   "execution_count": 11,
   "metadata": {},
   "outputs": [
    {
     "data": {
      "text/plain": [
       "array(['ADARSH NAGAR', 'AMBEDKAR NAGAR', 'BABARPUR', 'BADARPUR', 'BADLI',\n",
       "       'BALLIMARAN', 'BAWANA', 'BIJWASAN', 'BURARI', 'Chandni chowk',\n",
       "       'chandni chowk', 'CHATTARPUR', 'DEOLI', 'DWARKA', 'GANDHINAGAR',\n",
       "       'GHONDA', 'GREATER KAILASH', 'Hari nagar', 'HARI NAGAR',\n",
       "       'JANAKPURI', 'Jangpura', 'KALKAJI', 'KARAWAL NAGAR', 'KAROL BAGH',\n",
       "       'Kasturba nagar', 'Kondli', 'kondli', 'MALVIYA NAGAR',\n",
       "       'MANGOLPURI', 'Matia mahal', 'MEHRAULI', 'MODEL TOWN',\n",
       "       'MOTI NAGAR', 'NAJAFGARH', 'NANGLOI', 'Narela', 'New delhi',\n",
       "       'Okhla', 'Palam', 'PASCHIM VIHAR', 'Patparganj', 'PUNJABI BAGH',\n",
       "       'Rajendar nagar', 'Rajouri garden', 'Rithala', 'RK Puram',\n",
       "       'Rohtash Nagar, Shahdara', 'Sadar Bazar', 'Sangam Vihar',\n",
       "       'Seelampur', 'Seemapuri', 'SHAHDRA', 'Shakur basti',\n",
       "       'SHALIMAR BAGH', 'Sultanpur majra', 'Tilak Nagar',\n",
       "       'Timarpur(Mukherjee Nagar)', 'TRILOKPURI', 'TRINAGAR',\n",
       "       'Tughlakabad', 'Uttam Nagar', 'VIKASPURI', 'VISHWAS NAGAR',\n",
       "       'WAZIRPUR', nan, 'Punjabi Bagh', 'Sultanpuri'], dtype=object)"
      ]
     },
     "execution_count": 11,
     "metadata": {},
     "output_type": "execute_result"
    }
   ],
   "source": [
    "pd.unique(Delhinew['AREA'])"
   ]
  },
  {
   "cell_type": "code",
   "execution_count": 12,
   "metadata": {},
   "outputs": [
    {
     "data": {
      "text/plain": [
       "array([77.169424, 77.175847, 77.171288, ..., 77.082392, 77.317581,\n",
       "       77.083638])"
      ]
     },
     "execution_count": 12,
     "metadata": {},
     "output_type": "execute_result"
    }
   ],
   "source": [
    "pd.unique(Delhinew['long'])"
   ]
  },
  {
   "cell_type": "code",
   "execution_count": 13,
   "metadata": {},
   "outputs": [
    {
     "data": {
      "text/plain": [
       "array([28.727799, 28.705973, 28.718086, ..., 28.708505, 28.676295,\n",
       "       28.707101])"
      ]
     },
     "execution_count": 13,
     "metadata": {},
     "output_type": "execute_result"
    }
   ],
   "source": [
    "pd.unique(Delhinew['lat'])"
   ]
  },
  {
   "cell_type": "code",
   "execution_count": 14,
   "metadata": {},
   "outputs": [
    {
     "data": {
      "text/plain": [
       "array(['sahil', nan, 'Naman', 'Sahil', 'Ravi', 'Puru', 'PURU', 'rohan',\n",
       "       'naman', 'sahi', 'NAMAN'], dtype=object)"
      ]
     },
     "execution_count": 14,
     "metadata": {},
     "output_type": "execute_result"
    }
   ],
   "source": [
    "pd.unique(Delhinew['Executive Name'])"
   ]
  },
  {
   "cell_type": "code",
   "execution_count": 15,
   "metadata": {},
   "outputs": [
    {
     "data": {
      "text/plain": [
       "count           1358\n",
       "unique            66\n",
       "top       BALLIMARAN\n",
       "freq              83\n",
       "Name: AREA, dtype: object"
      ]
     },
     "execution_count": 15,
     "metadata": {},
     "output_type": "execute_result"
    }
   ],
   "source": [
    "Delhinew['AREA'].describe()"
   ]
  },
  {
   "cell_type": "code",
   "execution_count": 18,
   "metadata": {},
   "outputs": [
    {
     "data": {
      "text/plain": [
       "70.782374"
      ]
     },
     "execution_count": 18,
     "metadata": {},
     "output_type": "execute_result"
    }
   ],
   "source": [
    "Delhinew['long'].min()"
   ]
  },
  {
   "cell_type": "code",
   "execution_count": 19,
   "metadata": {},
   "outputs": [
    {
     "data": {
      "text/plain": [
       "12.992495"
      ]
     },
     "execution_count": 19,
     "metadata": {},
     "output_type": "execute_result"
    }
   ],
   "source": [
    "Delhinew['lat'].min()"
   ]
  },
  {
   "cell_type": "code",
   "execution_count": 22,
   "metadata": {},
   "outputs": [
    {
     "data": {
      "text/plain": [
       "85.837804"
      ]
     },
     "execution_count": 22,
     "metadata": {},
     "output_type": "execute_result"
    }
   ],
   "source": [
    "Delhinew['long'].max()"
   ]
  },
  {
   "cell_type": "code",
   "execution_count": 23,
   "metadata": {},
   "outputs": [
    {
     "data": {
      "text/plain": [
       "31.345603999999998"
      ]
     },
     "execution_count": 23,
     "metadata": {},
     "output_type": "execute_result"
    }
   ],
   "source": [
    "Delhinew['lat'].max()"
   ]
  },
  {
   "cell_type": "code",
   "execution_count": 25,
   "metadata": {},
   "outputs": [
    {
     "data": {
      "text/plain": [
       "77.20538361397055"
      ]
     },
     "execution_count": 25,
     "metadata": {},
     "output_type": "execute_result"
    }
   ],
   "source": [
    "Delhinew['long'].mean()"
   ]
  },
  {
   "cell_type": "code",
   "execution_count": 27,
   "metadata": {},
   "outputs": [
    {
     "data": {
      "text/plain": [
       "77.20538361397055"
      ]
     },
     "execution_count": 27,
     "metadata": {},
     "output_type": "execute_result"
    }
   ],
   "source": [
    "Delhinew['long'].mean()"
   ]
  },
  {
   "cell_type": "code",
   "execution_count": 28,
   "metadata": {},
   "outputs": [
    {
     "data": {
      "text/plain": [
       "28.52285169632357"
      ]
     },
     "execution_count": 28,
     "metadata": {},
     "output_type": "execute_result"
    }
   ],
   "source": [
    "Delhinew['lat'].mean()"
   ]
  },
  {
   "cell_type": "code",
   "execution_count": 29,
   "metadata": {},
   "outputs": [
    {
     "data": {
      "text/plain": [
       "0.5742760233878599"
      ]
     },
     "execution_count": 29,
     "metadata": {},
     "output_type": "execute_result"
    }
   ],
   "source": [
    "Delhinew['long'].std()"
   ]
  },
  {
   "cell_type": "code",
   "execution_count": 30,
   "metadata": {},
   "outputs": [
    {
     "data": {
      "text/plain": [
       "1.1334497720226004"
      ]
     },
     "execution_count": 30,
     "metadata": {},
     "output_type": "execute_result"
    }
   ],
   "source": [
    "Delhinew['lat'].std()"
   ]
  },
  {
   "cell_type": "code",
   "execution_count": 31,
   "metadata": {},
   "outputs": [
    {
     "data": {
      "text/plain": [
       "1360"
      ]
     },
     "execution_count": 31,
     "metadata": {},
     "output_type": "execute_result"
    }
   ],
   "source": [
    "Delhinew['long'].count()"
   ]
  },
  {
   "cell_type": "code",
   "execution_count": 32,
   "metadata": {},
   "outputs": [
    {
     "data": {
      "text/plain": [
       "1360"
      ]
     },
     "execution_count": 32,
     "metadata": {},
     "output_type": "execute_result"
    }
   ],
   "source": [
    "Delhinew['lat'].count()"
   ]
  },
  {
   "cell_type": "code",
   "execution_count": 33,
   "metadata": {},
   "outputs": [],
   "source": [
    "grouped_data = Delhinew.groupby('AREA')"
   ]
  },
  {
   "cell_type": "code",
   "execution_count": 34,
   "metadata": {},
   "outputs": [
    {
     "data": {
      "text/html": [
       "<div>\n",
       "<style scoped>\n",
       "    .dataframe tbody tr th:only-of-type {\n",
       "        vertical-align: middle;\n",
       "    }\n",
       "\n",
       "    .dataframe tbody tr th {\n",
       "        vertical-align: top;\n",
       "    }\n",
       "\n",
       "    .dataframe thead tr th {\n",
       "        text-align: left;\n",
       "    }\n",
       "\n",
       "    .dataframe thead tr:last-of-type th {\n",
       "        text-align: right;\n",
       "    }\n",
       "</style>\n",
       "<table border=\"1\" class=\"dataframe\">\n",
       "  <thead>\n",
       "    <tr>\n",
       "      <th></th>\n",
       "      <th colspan=\"8\" halign=\"left\">MOBILE NUMBERS</th>\n",
       "      <th colspan=\"2\" halign=\"left\">Unnamed: 11</th>\n",
       "      <th>...</th>\n",
       "      <th colspan=\"2\" halign=\"left\">long</th>\n",
       "      <th colspan=\"8\" halign=\"left\">lat</th>\n",
       "    </tr>\n",
       "    <tr>\n",
       "      <th></th>\n",
       "      <th>count</th>\n",
       "      <th>mean</th>\n",
       "      <th>std</th>\n",
       "      <th>min</th>\n",
       "      <th>25%</th>\n",
       "      <th>50%</th>\n",
       "      <th>75%</th>\n",
       "      <th>max</th>\n",
       "      <th>count</th>\n",
       "      <th>mean</th>\n",
       "      <th>...</th>\n",
       "      <th>75%</th>\n",
       "      <th>max</th>\n",
       "      <th>count</th>\n",
       "      <th>mean</th>\n",
       "      <th>std</th>\n",
       "      <th>min</th>\n",
       "      <th>25%</th>\n",
       "      <th>50%</th>\n",
       "      <th>75%</th>\n",
       "      <th>max</th>\n",
       "    </tr>\n",
       "    <tr>\n",
       "      <th>AREA</th>\n",
       "      <th></th>\n",
       "      <th></th>\n",
       "      <th></th>\n",
       "      <th></th>\n",
       "      <th></th>\n",
       "      <th></th>\n",
       "      <th></th>\n",
       "      <th></th>\n",
       "      <th></th>\n",
       "      <th></th>\n",
       "      <th></th>\n",
       "      <th></th>\n",
       "      <th></th>\n",
       "      <th></th>\n",
       "      <th></th>\n",
       "      <th></th>\n",
       "      <th></th>\n",
       "      <th></th>\n",
       "      <th></th>\n",
       "      <th></th>\n",
       "      <th></th>\n",
       "    </tr>\n",
       "  </thead>\n",
       "  <tbody>\n",
       "    <tr>\n",
       "      <th>ADARSH NAGAR</th>\n",
       "      <td>14.0</td>\n",
       "      <td>9.557305e+09</td>\n",
       "      <td>6.547539e+08</td>\n",
       "      <td>7.508964e+09</td>\n",
       "      <td>9.358977e+09</td>\n",
       "      <td>9.812044e+09</td>\n",
       "      <td>9.886792e+09</td>\n",
       "      <td>9.999666e+09</td>\n",
       "      <td>0.0</td>\n",
       "      <td>NaN</td>\n",
       "      <td>...</td>\n",
       "      <td>77.175317</td>\n",
       "      <td>77.732872</td>\n",
       "      <td>16.0</td>\n",
       "      <td>28.718893</td>\n",
       "      <td>0.014837</td>\n",
       "      <td>28.672828</td>\n",
       "      <td>28.717912</td>\n",
       "      <td>28.718190</td>\n",
       "      <td>28.728629</td>\n",
       "      <td>28.735120</td>\n",
       "    </tr>\n",
       "    <tr>\n",
       "      <th>AMBEDKAR NAGAR</th>\n",
       "      <td>21.0</td>\n",
       "      <td>9.452345e+09</td>\n",
       "      <td>6.535881e+08</td>\n",
       "      <td>7.503296e+09</td>\n",
       "      <td>9.212520e+09</td>\n",
       "      <td>9.811261e+09</td>\n",
       "      <td>9.891845e+09</td>\n",
       "      <td>9.999021e+09</td>\n",
       "      <td>0.0</td>\n",
       "      <td>NaN</td>\n",
       "      <td>...</td>\n",
       "      <td>77.239469</td>\n",
       "      <td>77.732872</td>\n",
       "      <td>28.0</td>\n",
       "      <td>28.530670</td>\n",
       "      <td>0.048406</td>\n",
       "      <td>28.495562</td>\n",
       "      <td>28.508346</td>\n",
       "      <td>28.518129</td>\n",
       "      <td>28.522718</td>\n",
       "      <td>28.672828</td>\n",
       "    </tr>\n",
       "    <tr>\n",
       "      <th>BABARPUR</th>\n",
       "      <td>18.0</td>\n",
       "      <td>9.583648e+09</td>\n",
       "      <td>6.129817e+08</td>\n",
       "      <td>7.678210e+09</td>\n",
       "      <td>9.585238e+09</td>\n",
       "      <td>9.811003e+09</td>\n",
       "      <td>9.938230e+09</td>\n",
       "      <td>9.999407e+09</td>\n",
       "      <td>0.0</td>\n",
       "      <td>NaN</td>\n",
       "      <td>...</td>\n",
       "      <td>77.295785</td>\n",
       "      <td>77.732872</td>\n",
       "      <td>28.0</td>\n",
       "      <td>28.681124</td>\n",
       "      <td>0.008099</td>\n",
       "      <td>28.666665</td>\n",
       "      <td>28.673454</td>\n",
       "      <td>28.682990</td>\n",
       "      <td>28.686699</td>\n",
       "      <td>28.698129</td>\n",
       "    </tr>\n",
       "    <tr>\n",
       "      <th>BADARPUR</th>\n",
       "      <td>18.0</td>\n",
       "      <td>9.580260e+09</td>\n",
       "      <td>4.819616e+08</td>\n",
       "      <td>8.285813e+09</td>\n",
       "      <td>9.350578e+09</td>\n",
       "      <td>9.811526e+09</td>\n",
       "      <td>9.900958e+09</td>\n",
       "      <td>9.990433e+09</td>\n",
       "      <td>0.0</td>\n",
       "      <td>NaN</td>\n",
       "      <td>...</td>\n",
       "      <td>77.732872</td>\n",
       "      <td>82.817023</td>\n",
       "      <td>29.0</td>\n",
       "      <td>28.216340</td>\n",
       "      <td>1.474020</td>\n",
       "      <td>22.350031</td>\n",
       "      <td>28.496831</td>\n",
       "      <td>28.503717</td>\n",
       "      <td>28.672828</td>\n",
       "      <td>30.742384</td>\n",
       "    </tr>\n",
       "    <tr>\n",
       "      <th>BADLI</th>\n",
       "      <td>3.0</td>\n",
       "      <td>9.611415e+09</td>\n",
       "      <td>3.462927e+08</td>\n",
       "      <td>9.211551e+09</td>\n",
       "      <td>9.511148e+09</td>\n",
       "      <td>9.810744e+09</td>\n",
       "      <td>9.811347e+09</td>\n",
       "      <td>9.811949e+09</td>\n",
       "      <td>0.0</td>\n",
       "      <td>NaN</td>\n",
       "      <td>...</td>\n",
       "      <td>77.732872</td>\n",
       "      <td>77.732872</td>\n",
       "      <td>15.0</td>\n",
       "      <td>28.702064</td>\n",
       "      <td>0.037533</td>\n",
       "      <td>28.672828</td>\n",
       "      <td>28.672828</td>\n",
       "      <td>28.672828</td>\n",
       "      <td>28.742511</td>\n",
       "      <td>28.760022</td>\n",
       "    </tr>\n",
       "    <tr>\n",
       "      <th>...</th>\n",
       "      <td>...</td>\n",
       "      <td>...</td>\n",
       "      <td>...</td>\n",
       "      <td>...</td>\n",
       "      <td>...</td>\n",
       "      <td>...</td>\n",
       "      <td>...</td>\n",
       "      <td>...</td>\n",
       "      <td>...</td>\n",
       "      <td>...</td>\n",
       "      <td>...</td>\n",
       "      <td>...</td>\n",
       "      <td>...</td>\n",
       "      <td>...</td>\n",
       "      <td>...</td>\n",
       "      <td>...</td>\n",
       "      <td>...</td>\n",
       "      <td>...</td>\n",
       "      <td>...</td>\n",
       "      <td>...</td>\n",
       "      <td>...</td>\n",
       "    </tr>\n",
       "    <tr>\n",
       "      <th>VIKASPURI</th>\n",
       "      <td>0.0</td>\n",
       "      <td>NaN</td>\n",
       "      <td>NaN</td>\n",
       "      <td>NaN</td>\n",
       "      <td>NaN</td>\n",
       "      <td>NaN</td>\n",
       "      <td>NaN</td>\n",
       "      <td>NaN</td>\n",
       "      <td>0.0</td>\n",
       "      <td>NaN</td>\n",
       "      <td>...</td>\n",
       "      <td>77.081239</td>\n",
       "      <td>77.251720</td>\n",
       "      <td>23.0</td>\n",
       "      <td>28.630283</td>\n",
       "      <td>0.019728</td>\n",
       "      <td>28.548028</td>\n",
       "      <td>28.627803</td>\n",
       "      <td>28.637155</td>\n",
       "      <td>28.638825</td>\n",
       "      <td>28.644307</td>\n",
       "    </tr>\n",
       "    <tr>\n",
       "      <th>VISHWAS NAGAR</th>\n",
       "      <td>0.0</td>\n",
       "      <td>NaN</td>\n",
       "      <td>NaN</td>\n",
       "      <td>NaN</td>\n",
       "      <td>NaN</td>\n",
       "      <td>NaN</td>\n",
       "      <td>NaN</td>\n",
       "      <td>NaN</td>\n",
       "      <td>0.0</td>\n",
       "      <td>NaN</td>\n",
       "      <td>...</td>\n",
       "      <td>77.297309</td>\n",
       "      <td>77.299037</td>\n",
       "      <td>8.0</td>\n",
       "      <td>28.667165</td>\n",
       "      <td>0.001518</td>\n",
       "      <td>28.665567</td>\n",
       "      <td>28.666280</td>\n",
       "      <td>28.666632</td>\n",
       "      <td>28.667965</td>\n",
       "      <td>28.670210</td>\n",
       "    </tr>\n",
       "    <tr>\n",
       "      <th>WAZIRPUR</th>\n",
       "      <td>0.0</td>\n",
       "      <td>NaN</td>\n",
       "      <td>NaN</td>\n",
       "      <td>NaN</td>\n",
       "      <td>NaN</td>\n",
       "      <td>NaN</td>\n",
       "      <td>NaN</td>\n",
       "      <td>NaN</td>\n",
       "      <td>0.0</td>\n",
       "      <td>NaN</td>\n",
       "      <td>...</td>\n",
       "      <td>77.177324</td>\n",
       "      <td>77.192321</td>\n",
       "      <td>23.0</td>\n",
       "      <td>28.687576</td>\n",
       "      <td>0.012458</td>\n",
       "      <td>28.644917</td>\n",
       "      <td>28.687632</td>\n",
       "      <td>28.692534</td>\n",
       "      <td>28.693197</td>\n",
       "      <td>28.703646</td>\n",
       "    </tr>\n",
       "    <tr>\n",
       "      <th>chandni chowk</th>\n",
       "      <td>1.0</td>\n",
       "      <td>9.899121e+09</td>\n",
       "      <td>NaN</td>\n",
       "      <td>9.899121e+09</td>\n",
       "      <td>9.899121e+09</td>\n",
       "      <td>9.899121e+09</td>\n",
       "      <td>9.899121e+09</td>\n",
       "      <td>9.899121e+09</td>\n",
       "      <td>0.0</td>\n",
       "      <td>NaN</td>\n",
       "      <td>...</td>\n",
       "      <td>77.221970</td>\n",
       "      <td>77.221970</td>\n",
       "      <td>1.0</td>\n",
       "      <td>28.656641</td>\n",
       "      <td>NaN</td>\n",
       "      <td>28.656641</td>\n",
       "      <td>28.656641</td>\n",
       "      <td>28.656641</td>\n",
       "      <td>28.656641</td>\n",
       "      <td>28.656641</td>\n",
       "    </tr>\n",
       "    <tr>\n",
       "      <th>kondli</th>\n",
       "      <td>1.0</td>\n",
       "      <td>9.971129e+09</td>\n",
       "      <td>NaN</td>\n",
       "      <td>9.971129e+09</td>\n",
       "      <td>9.971129e+09</td>\n",
       "      <td>9.971129e+09</td>\n",
       "      <td>9.971129e+09</td>\n",
       "      <td>9.971129e+09</td>\n",
       "      <td>0.0</td>\n",
       "      <td>NaN</td>\n",
       "      <td>...</td>\n",
       "      <td>77.326484</td>\n",
       "      <td>77.326484</td>\n",
       "      <td>1.0</td>\n",
       "      <td>28.615065</td>\n",
       "      <td>NaN</td>\n",
       "      <td>28.615065</td>\n",
       "      <td>28.615065</td>\n",
       "      <td>28.615065</td>\n",
       "      <td>28.615065</td>\n",
       "      <td>28.615065</td>\n",
       "    </tr>\n",
       "  </tbody>\n",
       "</table>\n",
       "<p>66 rows × 64 columns</p>\n",
       "</div>"
      ],
      "text/plain": [
       "               MOBILE NUMBERS                                            \\\n",
       "                        count          mean           std           min   \n",
       "AREA                                                                      \n",
       "ADARSH NAGAR             14.0  9.557305e+09  6.547539e+08  7.508964e+09   \n",
       "AMBEDKAR NAGAR           21.0  9.452345e+09  6.535881e+08  7.503296e+09   \n",
       "BABARPUR                 18.0  9.583648e+09  6.129817e+08  7.678210e+09   \n",
       "BADARPUR                 18.0  9.580260e+09  4.819616e+08  8.285813e+09   \n",
       "BADLI                     3.0  9.611415e+09  3.462927e+08  9.211551e+09   \n",
       "...                       ...           ...           ...           ...   \n",
       "VIKASPURI                 0.0           NaN           NaN           NaN   \n",
       "VISHWAS NAGAR             0.0           NaN           NaN           NaN   \n",
       "WAZIRPUR                  0.0           NaN           NaN           NaN   \n",
       "chandni chowk             1.0  9.899121e+09           NaN  9.899121e+09   \n",
       "kondli                    1.0  9.971129e+09           NaN  9.971129e+09   \n",
       "\n",
       "                                                                        \\\n",
       "                         25%           50%           75%           max   \n",
       "AREA                                                                     \n",
       "ADARSH NAGAR    9.358977e+09  9.812044e+09  9.886792e+09  9.999666e+09   \n",
       "AMBEDKAR NAGAR  9.212520e+09  9.811261e+09  9.891845e+09  9.999021e+09   \n",
       "BABARPUR        9.585238e+09  9.811003e+09  9.938230e+09  9.999407e+09   \n",
       "BADARPUR        9.350578e+09  9.811526e+09  9.900958e+09  9.990433e+09   \n",
       "BADLI           9.511148e+09  9.810744e+09  9.811347e+09  9.811949e+09   \n",
       "...                      ...           ...           ...           ...   \n",
       "VIKASPURI                NaN           NaN           NaN           NaN   \n",
       "VISHWAS NAGAR            NaN           NaN           NaN           NaN   \n",
       "WAZIRPUR                 NaN           NaN           NaN           NaN   \n",
       "chandni chowk   9.899121e+09  9.899121e+09  9.899121e+09  9.899121e+09   \n",
       "kondli          9.971129e+09  9.971129e+09  9.971129e+09  9.971129e+09   \n",
       "\n",
       "               Unnamed: 11       ...       long              lat             \\\n",
       "                     count mean  ...        75%        max count       mean   \n",
       "AREA                             ...                                          \n",
       "ADARSH NAGAR           0.0  NaN  ...  77.175317  77.732872  16.0  28.718893   \n",
       "AMBEDKAR NAGAR         0.0  NaN  ...  77.239469  77.732872  28.0  28.530670   \n",
       "BABARPUR               0.0  NaN  ...  77.295785  77.732872  28.0  28.681124   \n",
       "BADARPUR               0.0  NaN  ...  77.732872  82.817023  29.0  28.216340   \n",
       "BADLI                  0.0  NaN  ...  77.732872  77.732872  15.0  28.702064   \n",
       "...                    ...  ...  ...        ...        ...   ...        ...   \n",
       "VIKASPURI              0.0  NaN  ...  77.081239  77.251720  23.0  28.630283   \n",
       "VISHWAS NAGAR          0.0  NaN  ...  77.297309  77.299037   8.0  28.667165   \n",
       "WAZIRPUR               0.0  NaN  ...  77.177324  77.192321  23.0  28.687576   \n",
       "chandni chowk          0.0  NaN  ...  77.221970  77.221970   1.0  28.656641   \n",
       "kondli                 0.0  NaN  ...  77.326484  77.326484   1.0  28.615065   \n",
       "\n",
       "                                                                      \\\n",
       "                     std        min        25%        50%        75%   \n",
       "AREA                                                                   \n",
       "ADARSH NAGAR    0.014837  28.672828  28.717912  28.718190  28.728629   \n",
       "AMBEDKAR NAGAR  0.048406  28.495562  28.508346  28.518129  28.522718   \n",
       "BABARPUR        0.008099  28.666665  28.673454  28.682990  28.686699   \n",
       "BADARPUR        1.474020  22.350031  28.496831  28.503717  28.672828   \n",
       "BADLI           0.037533  28.672828  28.672828  28.672828  28.742511   \n",
       "...                  ...        ...        ...        ...        ...   \n",
       "VIKASPURI       0.019728  28.548028  28.627803  28.637155  28.638825   \n",
       "VISHWAS NAGAR   0.001518  28.665567  28.666280  28.666632  28.667965   \n",
       "WAZIRPUR        0.012458  28.644917  28.687632  28.692534  28.693197   \n",
       "chandni chowk        NaN  28.656641  28.656641  28.656641  28.656641   \n",
       "kondli               NaN  28.615065  28.615065  28.615065  28.615065   \n",
       "\n",
       "                           \n",
       "                      max  \n",
       "AREA                       \n",
       "ADARSH NAGAR    28.735120  \n",
       "AMBEDKAR NAGAR  28.672828  \n",
       "BABARPUR        28.698129  \n",
       "BADARPUR        30.742384  \n",
       "BADLI           28.760022  \n",
       "...                   ...  \n",
       "VIKASPURI       28.644307  \n",
       "VISHWAS NAGAR   28.670210  \n",
       "WAZIRPUR        28.703646  \n",
       "chandni chowk   28.656641  \n",
       "kondli          28.615065  \n",
       "\n",
       "[66 rows x 64 columns]"
      ]
     },
     "execution_count": 34,
     "metadata": {},
     "output_type": "execute_result"
    }
   ],
   "source": [
    "# Summary statistics for all numeric columns by AREA\n",
    "grouped_data.describe()"
   ]
  },
  {
   "cell_type": "code",
   "execution_count": 35,
   "metadata": {},
   "outputs": [
    {
     "data": {
      "text/html": [
       "<div>\n",
       "<style scoped>\n",
       "    .dataframe tbody tr th:only-of-type {\n",
       "        vertical-align: middle;\n",
       "    }\n",
       "\n",
       "    .dataframe tbody tr th {\n",
       "        vertical-align: top;\n",
       "    }\n",
       "\n",
       "    .dataframe thead th {\n",
       "        text-align: right;\n",
       "    }\n",
       "</style>\n",
       "<table border=\"1\" class=\"dataframe\">\n",
       "  <thead>\n",
       "    <tr style=\"text-align: right;\">\n",
       "      <th></th>\n",
       "      <th>MOBILE NUMBERS</th>\n",
       "      <th>Unnamed: 11</th>\n",
       "      <th>Unnamed: 13</th>\n",
       "      <th>Unnamed: 14</th>\n",
       "      <th>Unnamed: 16</th>\n",
       "      <th>Unnamed: 17</th>\n",
       "      <th>long</th>\n",
       "      <th>lat</th>\n",
       "    </tr>\n",
       "    <tr>\n",
       "      <th>AREA</th>\n",
       "      <th></th>\n",
       "      <th></th>\n",
       "      <th></th>\n",
       "      <th></th>\n",
       "      <th></th>\n",
       "      <th></th>\n",
       "      <th></th>\n",
       "      <th></th>\n",
       "    </tr>\n",
       "  </thead>\n",
       "  <tbody>\n",
       "    <tr>\n",
       "      <th>ADARSH NAGAR</th>\n",
       "      <td>9.557305e+09</td>\n",
       "      <td>NaN</td>\n",
       "      <td>NaN</td>\n",
       "      <td>NaN</td>\n",
       "      <td>NaN</td>\n",
       "      <td>NaN</td>\n",
       "      <td>77.207560</td>\n",
       "      <td>28.718893</td>\n",
       "    </tr>\n",
       "    <tr>\n",
       "      <th>AMBEDKAR NAGAR</th>\n",
       "      <td>9.452345e+09</td>\n",
       "      <td>NaN</td>\n",
       "      <td>NaN</td>\n",
       "      <td>NaN</td>\n",
       "      <td>NaN</td>\n",
       "      <td>NaN</td>\n",
       "      <td>77.268617</td>\n",
       "      <td>28.530670</td>\n",
       "    </tr>\n",
       "    <tr>\n",
       "      <th>BABARPUR</th>\n",
       "      <td>9.583648e+09</td>\n",
       "      <td>NaN</td>\n",
       "      <td>NaN</td>\n",
       "      <td>NaN</td>\n",
       "      <td>NaN</td>\n",
       "      <td>NaN</td>\n",
       "      <td>77.363634</td>\n",
       "      <td>28.681124</td>\n",
       "    </tr>\n",
       "    <tr>\n",
       "      <th>BADARPUR</th>\n",
       "      <td>9.580260e+09</td>\n",
       "      <td>NaN</td>\n",
       "      <td>NaN</td>\n",
       "      <td>NaN</td>\n",
       "      <td>NaN</td>\n",
       "      <td>NaN</td>\n",
       "      <td>77.546210</td>\n",
       "      <td>28.216340</td>\n",
       "    </tr>\n",
       "    <tr>\n",
       "      <th>BADLI</th>\n",
       "      <td>9.611415e+09</td>\n",
       "      <td>NaN</td>\n",
       "      <td>NaN</td>\n",
       "      <td>NaN</td>\n",
       "      <td>NaN</td>\n",
       "      <td>NaN</td>\n",
       "      <td>77.497815</td>\n",
       "      <td>28.702064</td>\n",
       "    </tr>\n",
       "    <tr>\n",
       "      <th>...</th>\n",
       "      <td>...</td>\n",
       "      <td>...</td>\n",
       "      <td>...</td>\n",
       "      <td>...</td>\n",
       "      <td>...</td>\n",
       "      <td>...</td>\n",
       "      <td>...</td>\n",
       "      <td>...</td>\n",
       "    </tr>\n",
       "    <tr>\n",
       "      <th>VIKASPURI</th>\n",
       "      <td>NaN</td>\n",
       "      <td>NaN</td>\n",
       "      <td>NaN</td>\n",
       "      <td>NaN</td>\n",
       "      <td>NaN</td>\n",
       "      <td>NaN</td>\n",
       "      <td>77.080342</td>\n",
       "      <td>28.630283</td>\n",
       "    </tr>\n",
       "    <tr>\n",
       "      <th>VISHWAS NAGAR</th>\n",
       "      <td>NaN</td>\n",
       "      <td>NaN</td>\n",
       "      <td>NaN</td>\n",
       "      <td>NaN</td>\n",
       "      <td>NaN</td>\n",
       "      <td>NaN</td>\n",
       "      <td>77.294086</td>\n",
       "      <td>28.667165</td>\n",
       "    </tr>\n",
       "    <tr>\n",
       "      <th>WAZIRPUR</th>\n",
       "      <td>NaN</td>\n",
       "      <td>NaN</td>\n",
       "      <td>NaN</td>\n",
       "      <td>NaN</td>\n",
       "      <td>NaN</td>\n",
       "      <td>NaN</td>\n",
       "      <td>77.170928</td>\n",
       "      <td>28.687576</td>\n",
       "    </tr>\n",
       "    <tr>\n",
       "      <th>chandni chowk</th>\n",
       "      <td>9.899121e+09</td>\n",
       "      <td>NaN</td>\n",
       "      <td>NaN</td>\n",
       "      <td>NaN</td>\n",
       "      <td>NaN</td>\n",
       "      <td>NaN</td>\n",
       "      <td>77.221970</td>\n",
       "      <td>28.656641</td>\n",
       "    </tr>\n",
       "    <tr>\n",
       "      <th>kondli</th>\n",
       "      <td>9.971129e+09</td>\n",
       "      <td>NaN</td>\n",
       "      <td>NaN</td>\n",
       "      <td>NaN</td>\n",
       "      <td>NaN</td>\n",
       "      <td>NaN</td>\n",
       "      <td>77.326484</td>\n",
       "      <td>28.615065</td>\n",
       "    </tr>\n",
       "  </tbody>\n",
       "</table>\n",
       "<p>66 rows × 8 columns</p>\n",
       "</div>"
      ],
      "text/plain": [
       "                MOBILE NUMBERS  Unnamed: 11  Unnamed: 13  Unnamed: 14  \\\n",
       "AREA                                                                    \n",
       "ADARSH NAGAR      9.557305e+09          NaN          NaN          NaN   \n",
       "AMBEDKAR NAGAR    9.452345e+09          NaN          NaN          NaN   \n",
       "BABARPUR          9.583648e+09          NaN          NaN          NaN   \n",
       "BADARPUR          9.580260e+09          NaN          NaN          NaN   \n",
       "BADLI             9.611415e+09          NaN          NaN          NaN   \n",
       "...                        ...          ...          ...          ...   \n",
       "VIKASPURI                  NaN          NaN          NaN          NaN   \n",
       "VISHWAS NAGAR              NaN          NaN          NaN          NaN   \n",
       "WAZIRPUR                   NaN          NaN          NaN          NaN   \n",
       "chandni chowk     9.899121e+09          NaN          NaN          NaN   \n",
       "kondli            9.971129e+09          NaN          NaN          NaN   \n",
       "\n",
       "                Unnamed: 16  Unnamed: 17       long        lat  \n",
       "AREA                                                            \n",
       "ADARSH NAGAR            NaN          NaN  77.207560  28.718893  \n",
       "AMBEDKAR NAGAR          NaN          NaN  77.268617  28.530670  \n",
       "BABARPUR                NaN          NaN  77.363634  28.681124  \n",
       "BADARPUR                NaN          NaN  77.546210  28.216340  \n",
       "BADLI                   NaN          NaN  77.497815  28.702064  \n",
       "...                     ...          ...        ...        ...  \n",
       "VIKASPURI               NaN          NaN  77.080342  28.630283  \n",
       "VISHWAS NAGAR           NaN          NaN  77.294086  28.667165  \n",
       "WAZIRPUR                NaN          NaN  77.170928  28.687576  \n",
       "chandni chowk           NaN          NaN  77.221970  28.656641  \n",
       "kondli                  NaN          NaN  77.326484  28.615065  \n",
       "\n",
       "[66 rows x 8 columns]"
      ]
     },
     "execution_count": 35,
     "metadata": {},
     "output_type": "execute_result"
    }
   ],
   "source": [
    "# Provide the mean for each numeric column by AREA\n",
    "grouped_data.mean()"
   ]
  },
  {
   "cell_type": "code",
   "execution_count": 37,
   "metadata": {},
   "outputs": [],
   "source": [
    "longlat_counts = Delhinew.groupby('long')['lat'].count()"
   ]
  },
  {
   "cell_type": "code",
   "execution_count": 38,
   "metadata": {},
   "outputs": [
    {
     "name": "stdout",
     "output_type": "stream",
     "text": [
      "long\n",
      "70.782374    1\n",
      "72.597979    1\n",
      "72.635262    1\n",
      "73.080080    1\n",
      "73.092035    1\n",
      "            ..\n",
      "80.510920    1\n",
      "80.730654    1\n",
      "82.817023    1\n",
      "85.383741    1\n",
      "85.837804    1\n",
      "Name: lat, Length: 1057, dtype: int64\n"
     ]
    }
   ],
   "source": [
    "print(longlat_counts)"
   ]
  },
  {
   "cell_type": "code",
   "execution_count": 47,
   "metadata": {},
   "outputs": [],
   "source": [
    "%matplotlib inline\n",
    "import matplotlib.pyplot as plt "
   ]
  },
  {
   "cell_type": "code",
   "execution_count": 40,
   "metadata": {},
   "outputs": [
    {
     "data": {
      "image/png": "[encoded data removed]",
      "text/plain": [
       "<Figure size 432x288 with 1 Axes>"
      ]
     },
     "metadata": {
      "needs_background": "light"
     },
     "output_type": "display_data"
    }
   ],
   "source": [
    "longlat_counts.plot(kind='bar');"
   ]
  },
  {
   "cell_type": "code",
   "execution_count": 43,
   "metadata": {},
   "outputs": [],
   "source": [
    "longlat_counts = Delhinew.groupby('AREA')['lat'].count()"
   ]
  },
  {
   "cell_type": "code",
   "execution_count": 44,
   "metadata": {},
   "outputs": [
    {
     "data": {
      "image/png": "[encoded data removed]",
      "text/plain": [
       "<Figure size 432x288 with 1 Axes>"
      ]
     },
     "metadata": {
      "needs_background": "light"
     },
     "output_type": "display_data"
    }
   ],
   "source": [
    "longlat_counts.plot(kind='bar');"
   ]
  },
  {
   "cell_type": "code",
   "execution_count": 45,
   "metadata": {},
   "outputs": [],
   "source": [
    "longlat_counts = Delhinew.groupby('AREA')['long'].count()"
   ]
  },
  {
   "cell_type": "code",
   "execution_count": 46,
   "metadata": {},
   "outputs": [
    {
     "data": {
      "image/png": "[encoded data removed]",
      "text/plain": [
       "<Figure size 432x288 with 1 Axes>"
      ]
     },
     "metadata": {
      "needs_background": "light"
     },
     "output_type": "display_data"
    }
   ],
   "source": [
    "longlat_counts.plot(kind='bar');"
   ]
  },
  {
   "cell_type": "code",
   "execution_count": 54,
   "metadata": {},
   "outputs": [
    {
     "data": {
      "text/plain": [
       "<matplotlib.axes._subplots.AxesSubplot at 0x7f1a6ea6df50>"
      ]
     },
     "execution_count": 54,
     "metadata": {},
     "output_type": "execute_result"
    },
    {
     "data": {
      "image/png": "[encoded data removed]",
      "text/plain": [
       "<Figure size 432x288 with 1 Axes>"
      ]
     },
     "metadata": {
      "needs_background": "light"
     },
     "output_type": "display_data"
    }
   ],
   "source": [
    "# plot a histogram  \n",
    "Delhinew['long'].hist(bins=10) "
   ]
  },
  {
   "cell_type": "code",
   "execution_count": 56,
   "metadata": {},
   "outputs": [
    {
     "data": {
      "text/plain": [
       "<matplotlib.axes._subplots.AxesSubplot at 0x7f1a6ed148d0>"
      ]
     },
     "execution_count": 56,
     "metadata": {},
     "output_type": "execute_result"
    },
    {
     "data": {
      "image/png": "[encoded data removed]",
      "text/plain": [
       "<Figure size 432x288 with 1 Axes>"
      ]
     },
     "metadata": {
      "needs_background": "light"
     },
     "output_type": "display_data"
    }
   ],
   "source": [
    "# shows presence of a lot of outliers/extreme values \n",
    "Delhinew.boxplot(column='long', by = 'lat') "
   ]
  },
  {
   "cell_type": "code",
   "execution_count": 57,
   "metadata": {},
   "outputs": [
    {
     "data": {
      "image/png": "[encoded data removed]",
      "text/plain": [
       "<Figure size 432x288 with 1 Axes>"
      ]
     },
     "metadata": {
      "needs_background": "light"
     },
     "output_type": "display_data"
    }
   ],
   "source": [
    "# plotting points as a scatter plot \n",
    "x = Delhinew[\"long\"] \n",
    "y = Delhinew[\"lat\"] \n",
    "plt.scatter(x, y, label= \"stars\", color= \"m\",  \n",
    "            marker= \"*\", s=30) \n",
    "# x-axis label \n",
    "plt.xlabel('Longitude') \n",
    "# frequency label \n",
    "plt.ylabel('Latitude') \n",
    "# function to show the plot \n",
    "plt.show() "
   ]
  },
  {
   "cell_type": "code",
   "execution_count": null,
   "metadata": {},
   "outputs": [],
   "source": []
  }
 ],
 "metadata": {
  "kernelspec": {
   "display_name": "Python 3",
   "language": "python",
   "name": "python3"
  },
  "language_info": {
   "codemirror_mode": {
    "name": "ipython",
    "version": 3
   },
   "file_extension": ".py",
   "mimetype": "text/x-python",
   "name": "python",
   "nbconvert_exporter": "python",
   "pygments_lexer": "ipython3",
   "version": "3.7.6"
  }
 },
 "nbformat": 4,
 "nbformat_minor": 4
}
